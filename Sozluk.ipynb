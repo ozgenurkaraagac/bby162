{
  "nbformat": 4,
  "nbformat_minor": 0,
  "metadata": {
    "colab": {
      "name": "Sozluk.ipynb",
      "provenance": [],
      "authorship_tag": "ABX9TyMKGz1E7SPOXOorGZFCtPZo",
      "include_colab_link": true
    },
    "kernelspec": {
      "name": "python3",
      "display_name": "Python 3"
    },
    "language_info": {
      "name": "python"
    }
  },
  "cells": [
    {
      "cell_type": "markdown",
      "metadata": {
        "id": "view-in-github",
        "colab_type": "text"
      },
      "source": [
        "<a href=\"https://colab.research.google.com/github/ozgenurkaraagac/hu-bby162-2022/blob/main/Sozluk.ipynb\" target=\"_parent\"><img src=\"https://colab.research.google.com/assets/colab-badge.svg\" alt=\"Open In Colab\"/></a>"
      ]
    },
    {
      "cell_type": "code",
      "execution_count": 2,
      "metadata": {
        "colab": {
          "base_uri": "https://localhost:8080/"
        },
        "id": "yEV3dzXeDCez",
        "outputId": "32a8277b-db37-4c54-bac4-5b00f18f8268"
      },
      "outputs": [
        {
          "output_type": "stream",
          "name": "stdout",
          "text": [
            "['Özge']\n",
            "Arkadaşının adı: öz\n",
            "['Özge', 'öz']\n"
          ]
        }
      ],
      "source": [
        "#28.02.2022 DERSİ\n",
        "#arkadaş listesi2\n",
        "liste= [\"Özge\"]\n",
        "print(liste)\n",
        "yeni = input(\"Arkadaşının adı: \")\n",
        "liste.append(yeni)\n",
        "print(liste)"
      ]
    },
    {
      "cell_type": "code",
      "source": [
        "#arkadaş listesi\n",
        "liste = [\"Orçun Madran\"]\n",
        "ad = input(\"Adınız: \")\n",
        "soyad = input(\"Soyadınız: \")\n",
        "adsoyad = ad + \" \" + soyad\n",
        "liste.append(adsoyad)\n",
        "print(liste)\n",
        "liste[0] = \"Yeni arkadaş\"\n",
        "\n",
        "print(liste)"
      ],
      "metadata": {
        "colab": {
          "base_uri": "https://localhost:8080/"
        },
        "id": "a-7xOJzDDeM6",
        "outputId": "0171b9e6-1106-41fe-cdb3-b86fd604f3e6"
      },
      "execution_count": 3,
      "outputs": [
        {
          "output_type": "stream",
          "name": "stdout",
          "text": [
            "Adınız: Özgenur\n",
            "Soyadınız: Karaağaç\n",
            "['Orçun Madran', 'Özgenur Karaağaç']\n",
            "['Yeni arkadaş', 'Özgenur Karaağaç']\n"
          ]
        }
      ]
    },
    {
      "cell_type": "code",
      "source": [
        "haber = \"Lorem ipsum dolor sit amet, consectetur adipiscing elit, sed do eiusmod tempor incididunt ut labore et dolore magna aliqua. Ut enim ad minim veniam, quis nostrud exercitation ullamco laboris nisi ut aliquip ex ea commodo consequat. Duis aute irure dolor in reprehenderit in voluptate velit esse cillum dolore eu fugiat nulla pariatur. Excepteur sint occaecat cupidatat non proident, sunt in culpa qui officia deserunt mollit anim id est laborum.\"\n",
        "baslangic = haber[:200]\n",
        "bitis = haber[-200:]\n",
        "print(baslangic + \" \" + bitis)"
      ],
      "metadata": {
        "colab": {
          "base_uri": "https://localhost:8080/"
        },
        "id": "XV76XatuEfpJ",
        "outputId": "b364f237-ac30-48b5-81a5-c4c61a9137ab"
      },
      "execution_count": 9,
      "outputs": [
        {
          "output_type": "stream",
          "name": "stdout",
          "text": [
            "Lorem ipsum dolor sit amet, consectetur adipiscing elit, sed do eiusmod tempor incididunt ut labore et dolore magna aliqua. Ut enim ad minim veniam, quis nostrud exercitation ullamco laboris nisi ut a re dolor in reprehenderit in voluptate velit esse cillum dolore eu fugiat nulla pariatur. Excepteur sint occaecat cupidatat non proident, sunt in culpa qui officia deserunt mollit anim id est laborum.\n"
          ]
        }
      ]
    },
    {
      "cell_type": "code",
      "source": [
        "sozluk = {\"Açık erişim\": \"Kamu kaynakları\", \"Açık veri\": \"Açık...\"}\n",
        "print(sozluk)\n",
        "sozluk[\"Açık inovasyon\"] = \"Aİ...\"\n",
        "print(sozluk)\n",
        "del sozluk[\"Açık erişim\"]\n",
        "print(sozluk)\n",
        "sozluk[\"Açık inovasyon\"] = \"Aİ2...\"\n",
        "print(sozluk)\n",
        "\n",
        "print(sozluk[\"Açık veri\"])"
      ],
      "metadata": {
        "colab": {
          "base_uri": "https://localhost:8080/"
        },
        "id": "7uOicQE1Da8q",
        "outputId": "827cbc39-7281-469c-f985-f390b11cf250"
      },
      "execution_count": 4,
      "outputs": [
        {
          "output_type": "stream",
          "name": "stdout",
          "text": [
            "{'Açık erişim': 'Kamu kaynakları', 'Açık veri': 'Açık...'}\n",
            "{'Açık erişim': 'Kamu kaynakları', 'Açık veri': 'Açık...', 'Açık inovasyon': 'Aİ...'}\n",
            "{'Açık veri': 'Açık...', 'Açık inovasyon': 'Aİ...'}\n",
            "{'Açık veri': 'Açık...', 'Açık inovasyon': 'Aİ2...'}\n",
            "Açık...\n"
          ]
        }
      ]
    },
    {
      "cell_type": "code",
      "source": [
        "bilgiKavramları= [\"indeks\", \"erişim\", \"koleksiyon\"]\n",
        "print(\"erişim\" in bilgiKavramları)\n",
        "\n",
        "bilgiSozlugu={\"indeks\": \"index\", \"erişim\": \"access\", \"koleksiyon\": \"collection\"}\n",
        "print(\"koleksiyon\" in bilgiSozlugu.keys())\n",
        "\n",
        "print(\"Koleksiyon: \" + bilgiSozlugu[\"koleksiyon\"])"
      ],
      "metadata": {
        "colab": {
          "base_uri": "https://localhost:8080/"
        },
        "id": "GAPO3vwkDtth",
        "outputId": "0a3f7f8d-feef-4f2f-a097-4f58907caabf"
      },
      "execution_count": 5,
      "outputs": [
        {
          "output_type": "stream",
          "name": "stdout",
          "text": [
            "True\n",
            "True\n",
            "Koleksiyon: collection\n"
          ]
        }
      ]
    },
    {
      "cell_type": "code",
      "source": [
        "#sozluk oluştur\n",
        "sozluk={\"bir\": \"one\", \"two\": \"iki\"}\n",
        "print(sozluk)\n",
        "\n",
        "arama =input(\"Kelimeyi giriniz: \")\n",
        "arama = arama.lower()\n",
        "print(arama)"
      ],
      "metadata": {
        "colab": {
          "base_uri": "https://localhost:8080/"
        },
        "id": "LrvQLgR_Dw60",
        "outputId": "a203679e-8bdd-461d-ccdc-e4c6f6c03ca5"
      },
      "execution_count": 6,
      "outputs": [
        {
          "output_type": "stream",
          "name": "stdout",
          "text": [
            "{'bir': 'one', 'two': 'iki'}\n",
            "Kelimeyi giriniz: üç\n",
            "üç\n"
          ]
        }
      ]
    },
    {
      "cell_type": "code",
      "source": [
        "sozluk={\"bir\": \"one\", \"two\": \"iki\"}\n",
        "print(sozluk)\n",
        "\n",
        "arama =input(\"Kelimeyi giriniz: \")\n",
        "arama = arama.lower()\n",
        "print(arama)\n",
        "\n",
        "kontrol = arama in sozluk.keys()\n",
        "print(\"Sözlükte bu kelime var mı? \" + str(kontrol))\n",
        "print(sozluk[arama])"
      ],
      "metadata": {
        "colab": {
          "base_uri": "https://localhost:8080/"
        },
        "id": "A2h555I0D15J",
        "outputId": "e7fb98ab-0ec8-4f4c-ce70-3ee0a2a8c925"
      },
      "execution_count": 8,
      "outputs": [
        {
          "output_type": "stream",
          "name": "stdout",
          "text": [
            "{'bir': 'one', 'two': 'iki'}\n",
            "Kelimeyi giriniz: bir\n",
            "bir\n",
            "Sözlükte bu kelime var mı? True\n",
            "one\n"
          ]
        }
      ]
    },
    {
      "cell_type": "code",
      "source": [
        "#07.03.2022 DERSİ\n"
      ],
      "metadata": {
        "id": "9FXH38ndEO-2"
      },
      "execution_count": null,
      "outputs": []
    }
  ]
}