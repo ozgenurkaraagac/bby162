{
  "nbformat": 4,
  "nbformat_minor": 0,
  "metadata": {
    "colab": {
      "name": "Tekrar.ipynb",
      "provenance": [],
      "authorship_tag": "ABX9TyObQcCnBxRVEDAfi4xcabdU",
      "include_colab_link": true
    },
    "kernelspec": {
      "name": "python3",
      "display_name": "Python 3"
    },
    "language_info": {
      "name": "python"
    }
  },
  "cells": [
    {
      "cell_type": "markdown",
      "metadata": {
        "id": "view-in-github",
        "colab_type": "text"
      },
      "source": [
        "<a href=\"https://colab.research.google.com/github/ozgenurkaraagac/hu-bby162-2022/blob/main/Tekrar.ipynb\" target=\"_parent\"><img src=\"https://colab.research.google.com/assets/colab-badge.svg\" alt=\"Open In Colab\"/></a>"
      ]
    },
    {
      "cell_type": "code",
      "execution_count": null,
      "metadata": {
        "colab": {
          "base_uri": "https://localhost:8080/"
        },
        "id": "NsHZnw2p2vDw",
        "outputId": "474a83e7-9c6f-4ccf-c801-739e164a90c0"
      },
      "outputs": [
        {
          "output_type": "stream",
          "name": "stdout",
          "text": [
            "Selam\n",
            "Merhaba\n"
          ]
        }
      ],
      "source": [
        "#çift ve tek tırnak olarak da kabul edilir\n",
        "print(\"Selam\")\n",
        "print('Merhaba')"
      ]
    },
    {
      "cell_type": "code",
      "source": [
        "#DEĞİŞKEN\n",
        "\n",
        "#DEĞİŞKEN NEDİR?\n",
        "#Değişkenler değerleri depolamak için kullanılır. \n",
        "#Böylece daha sonra bu değişkenler program içinden çağırılarak atanan değer tekrar ve tekrar kullanılabilir.\n",
        "#Değişkenlere metinler ve / veya sayılar atanabilir.\n",
        "#Sayı atamaları direkt rakamların yazılması ile gerçekleştirilirken, metin atamalarında metin tek tırnak içinde ( 'abc' ) ya da çift tırnak ( \"abc\" ) içinde atanır.\n",
        "#Değişkenler etiketlere benzer ve atama operatörü olarak adlandırılan eşittir ( = ) operatörü ile bir değişkene bir değer atanabilir. \n",
        "#Bir değer ataması zincirleme şeklinde gerçekleştirilebilir. Örneğin: a = b = 2\n",
        "\n",
        "#\"a\" ve \"b\" değişkenleri başka metinler ile birlikte ekrana yazdırılmak istendiğinde metin formatına çevrilmesi gerekmektedir.\n",
        "#Bu bağlamda kullanılan \"str(a)\" ve \"str(b)\" ifadeleri eğitimin ilerleyen bölümlerinde anlatılacaktır.\n",
        "\n",
        "a=b=3\n",
        "print('a='+str(a))\n",
        "print('b='+str(b))\n",
        "\n",
        "adsoyad= 'Özgenur Karaağaç'\n",
        "print('Adı Soyadı: '+adsoyad)\n",
        "\n",
        "eposta= 'karaagacozgenur@gmail.com'\n",
        "print('E-posta: '+eposta)\n",
        "\n",
        "#DEĞİŞKEN TANIMLAMA\n",
        "#Değişken isimlerinde uyulması gereken bir takım kurallar vardır:\n",
        "#Rakam ile başlayamaz.\n",
        "#Boşluk kullanılamaz.\n",
        "#Alt tire ( _ ) haricinde bir noktalama işareti kullanılamaz.\n",
        "#Python içinde yerleşik olarak tanımlanmış anahtar kelimeler kullanılamaz (ör: print).\n",
        "#Python 3. sürümden itibaren latin dışı karakter desteği olan \"Unicode\" desteği gelmiştir. Türkçe karakterler değişken isimlerinde kullanılabilir.\n",
        "#Dikkat: Değişken isimleri büyük-küçük harfe duyarlıdır.\n",
        "#Büyük harfle başlanan isimlendirmeler genelde sınıflar için kullanılır.\n",
        "#Değişken isimlerinin daha anlaşılır olması için deve notasyonu (camelCase) ya da alt tire kullanımı tavsiye edilir.\n",
        "\n",
        "degisken = 'Programlama ve Algoritmalar dersi'\n",
        "print(degisken)\n",
        "\n",
        "#DEĞİŞKEN TÜRLERİ\n",
        "#Python'da iki ana sayı türü vardır; tam sayılar ve ondalık sayılar.\n",
        "#Dikkat: Ondalık sayıların yazımında Türkçe'de virgül (,) kullanılmasına rağmen, programlama dillerinin evrensel yazım kuralları içerisinde ondalık sayılar nokta (.) ile ifade edilir.\n",
        "\n",
        "#DEĞİŞKEN TÜRÜ DÖNÜŞTÜRME\n",
        "#Bir veri türünü diğerine dönüştürmenize izin veren birkaç yerleşik fonksiyon (built-in function) vardır.\n",
        "#Bu fonksiyonlar (\"int()\", \"str()\", \"float()\") uygulandıkları değişkeni dönüştürerek yeni bir nesne döndürürler.\n",
        "\n",
        "sayi= 9\n",
        "print(type(sayi))\n",
        "print(sayi)\n",
        "\n",
        "sayi2= 9.2\n",
        "print(type(sayi2))\n",
        "sayi2= int(sayi2)\n",
        "print(type(sayi))\n",
        "print(sayi2)\n",
        "sayi2= float(sayi2)\n",
        "print(type(sayi2))\n",
        "print(sayi2)\n",
        "sayi2= str(sayi2)\n",
        "print(type(sayi2))\n",
        "print(sayi2)\n",
        "\n",
        "#ARİTMETİK OPERATÖRLER\n",
        "#Diğer tüm programlama dillerinde olduğu gibi, toplama (+), çıkarma (-), çarpma (yıldız) ve bölme (/) operatörleri sayılarla kullanılabilir.\n",
        "#Bunlarla birlikte Python'un üs (çift yıldız) ve mod (%) operatörleri vardır.\n",
        "#Dikkat: Matematik işlemlerinde geçerli olan aritmetik operatörlerin öncelik sıralamaları (çarpma, bölme, toplama, çıkarma) ve parantezlerin önceliği kuralları Python içindeki matematiksel işlemler için de geçerlidir.\n",
        "\n",
        "islem = 9.0\n",
        "sonuc = islem + 4.5 #toplama\n",
        "print(sonuc)\n",
        "\n",
        "islem2 = 7\n",
        "sonuc2 = sonuc - islem2 #çıkarma\n",
        "print(sonuc2)\n",
        "\n",
        "islem3 = 10\n",
        "sonuc = islem3 * 3 #çarpma\n",
        "print(sonuc)\n",
        "\n",
        "islem = 60\n",
        "sonuc = islem / 5 #bölme\n",
        "print(sonuc)\n",
        "\n",
        "islem= 3\n",
        "sonuc= islem ** 5 #üs alma\n",
        "print(sonuc)\n",
        "\n",
        "islem= 74\n",
        "sonuc = islem % 6\n",
        "print(sonuc)"
      ],
      "metadata": {
        "colab": {
          "base_uri": "https://localhost:8080/"
        },
        "id": "OGaSTepH8Jd3",
        "outputId": "7272c6e6-f1fb-4ca1-f094-4db405b653a4"
      },
      "execution_count": null,
      "outputs": [
        {
          "output_type": "stream",
          "name": "stdout",
          "text": [
            "a=3\n",
            "b=3\n",
            "Adı Soyadı: Özgenur Karaağaç\n",
            "E-posta: karaagacozgenur@gmail.com\n",
            "Programlama ve Algoritmalar dersi\n",
            "<class 'int'>\n",
            "9\n",
            "<class 'float'>\n",
            "<class 'int'>\n",
            "9\n",
            "<class 'float'>\n",
            "9.0\n",
            "<class 'str'>\n",
            "9.0\n",
            "13.5\n",
            "6.5\n",
            "30\n",
            "12.0\n",
            "243\n",
            "2\n"
          ]
        }
      ]
    },
    {
      "cell_type": "code",
      "source": [
        "#Aşağıda değer atamaları tamamlanmış olan değişkenleri kullanarak ürünlerin peşin satın alınma bedelini TL olarak hesaplayınız ve ürün adı ile birlikte ekrana yazdırınız!\n",
        "#İpucu: Ürün adını ve ürün bedelini tek bir satırda yazdırmak isterseniz ürün bedelini str() fonksiyonu ile düz metin değişken türüne çevirmeniz gerekir.\n",
        "\n",
        "urunAdi = \"Bisiklet\"\n",
        "urunBedeliAvro = 850\n",
        "kurAvro = 10\n",
        "urunAdet = 1\n",
        "pesinAdetIndirimTL = 500\n",
        "butce = 15000\n",
        "\n",
        "hesapla = ((urunBedeliAvro * urunAdet) * kurAvro) - pesinAdetIndirimTL\n",
        "butceTamam = butce > hesapla\n",
        "print(hesapla)\n",
        "print(\"Alışveriş bütçeme uygun mu? \" + str(butceTamam))\n"
      ],
      "metadata": {
        "colab": {
          "base_uri": "https://localhost:8080/"
        },
        "id": "7F_yS_LGITkl",
        "outputId": "b05e4a70-dbff-466f-fb5f-9da07d007ae5"
      },
      "execution_count": null,
      "outputs": [
        {
          "output_type": "stream",
          "name": "stdout",
          "text": [
            "8000\n",
            "Alışveriş bütçeme uygun mu? True\n"
          ]
        }
      ]
    },
    {
      "cell_type": "code",
      "source": [
        "#Yaşını bul\n",
        "\n",
        "yil = input('İçinde bulunduğun yılı gir: ')\n",
        "dtarih = input('Doğum tarihini gir: ')\n",
        "\n",
        "yil=int(yil)\n",
        "dtarih=int(dtarih)\n",
        "\n",
        "yas = yil - dtarih\n",
        "print('Yaşınız: ' + str(yas))"
      ],
      "metadata": {
        "colab": {
          "base_uri": "https://localhost:8080/"
        },
        "id": "xPJEggO3GlaO",
        "outputId": "1346ad64-3b7a-4cef-c7bf-2ae19a038f8e"
      },
      "execution_count": null,
      "outputs": [
        {
          "output_type": "stream",
          "name": "stdout",
          "text": [
            "İçinde bulunduğun yılı gir: 2022\n",
            "Doğum tarihini gir: 2001\n",
            "Yaşınız: 21\n"
          ]
        }
      ]
    },
    {
      "cell_type": "code",
      "source": [
        "#ARTIRILMIŞ ATAMA OPERATÖRLERİ\n",
        "#Artırılmış atama, bir değişkenin mevcut değerine belirlenen değerin eklenerek ( += ) ya da çıkartılarak ( -= ) atanması işlemidir.\n",
        "sayi=100\n",
        "sayi += 20\n",
        "sayi -= 10\n",
        "print(sayi)\n",
        "print('Sayı: ' + str(sayi))"
      ],
      "metadata": {
        "colab": {
          "base_uri": "https://localhost:8080/"
        },
        "id": "I3XfCntQHIM2",
        "outputId": "0263ee05-46f5-4815-803e-c8922081ba15"
      },
      "execution_count": null,
      "outputs": [
        {
          "output_type": "stream",
          "name": "stdout",
          "text": [
            "110\n",
            "Sayı: 110\n"
          ]
        }
      ]
    },
    {
      "cell_type": "code",
      "source": [
        "#BOOLEAN OPERATÖRLERİ\n",
        "#Boolean, yalnızca Doğru (True) veya Yanlış (False) olabilen bir değer türüdür.\n",
        "#Eşitlik (==) operatörleri karşılaştırılan iki değişkenin eşit olup olmadığını kontrol eder ve True ya da False değeri döndürür.\n",
        "\n",
        "sifre = \"Python2020\"\n",
        "sifreTekrar = \"Piton2020\"\n",
        "\n",
        "#eşitliği kontrol et\n",
        "esitMi = (sifre == sifreTekrar)\n",
        "print(esitMi)"
      ],
      "metadata": {
        "colab": {
          "base_uri": "https://localhost:8080/"
        },
        "id": "OQNNFNV8HzCO",
        "outputId": "ff983733-2875-4dd8-f014-2fe3b6739813"
      },
      "execution_count": null,
      "outputs": [
        {
          "output_type": "stream",
          "name": "stdout",
          "text": [
            "False\n"
          ]
        }
      ]
    },
    {
      "cell_type": "code",
      "source": [
        "#KARŞILAŞTIRMA OPERATÖRLERİ\n",
        "#Python'da, >=, <= , >, < vb. dahil olmak üzere birçok operatör bulunmaktadır. \n",
        "#Python'daki tüm karşılaştırma operatörleri aynı önceliğe sahiptir.\n",
        "#Karşılaştırma sonucunda boole değerleri (True ya da False) döner.\n",
        "#Karşılaştırma operatörleri isteğe bağlı olarak arka arkaya da (zincirlenerek) kullanılabilir.\n",
        "\n",
        "#Görev: Aşağıda değer atamaları tamamlanmış olan değişkenleri kullanarak ürünlerin peşin satın alınma bedelini TL olarak hesaplayın. \n",
        "#Toplam satın alma bedeli ile bütçenizi karşılaştırın.\n",
        "#Satın alma bedelini ve bütçenizi ekrana yazdırın.\n",
        "#Ödeme bütçenizi aşıyorsa ekrana \"False\", aşmıyorsa \"True\" yazdırın.\n",
        "\n",
        "urunAdi = \"Bisiklet\"\n",
        "urunBedeliAvro = 850\n",
        "kurAvro = 7\n",
        "urunAdet = 3\n",
        "pesinAdetIndirimTL = 500\n",
        "butce = 15000\n",
        "\n",
        "sonuc = (urunBedeliAvro * kurAvro) - (urunAdet * pesinAdetIndirimTL)\n",
        "print(sonuc)\n",
        "\n",
        "print('Bisiklet: ' + (str(sonuc)) + 'TL')\n",
        "print(sonuc<butce)\n",
        " "
      ],
      "metadata": {
        "colab": {
          "base_uri": "https://localhost:8080/"
        },
        "id": "0geIsZ91IhST",
        "outputId": "c245ca8e-4965-4b3c-e779-2100f936e8ed"
      },
      "execution_count": null,
      "outputs": [
        {
          "output_type": "stream",
          "name": "stdout",
          "text": [
            "4450\n",
            "Bisiklet: 4450TL\n",
            "True\n"
          ]
        }
      ]
    },
    {
      "cell_type": "code",
      "source": [
        "#kullanıcı adı ve şifre gir\n",
        "kullanıcıAdi = \"ozgenurkaraagac\"\n",
        "sifre = \"kedi18\"\n",
        "kullanıcıAdi2 = input(\"Kullanıcı adını giriniz: \")\n",
        "sifre2 = input(\"Şifrenizi giriniz: \")\n",
        "print(kullanıcıAdi==kullanıcıAdi2)\n",
        "print(sifre==sifre2)"
      ],
      "metadata": {
        "colab": {
          "base_uri": "https://localhost:8080/"
        },
        "id": "F_6xXfWfV2FT",
        "outputId": "93bed803-f424-4fbf-d0d3-9e6f01c14407"
      },
      "execution_count": null,
      "outputs": [
        {
          "output_type": "stream",
          "name": "stdout",
          "text": [
            "Kullanıcı adını giriniz: ozge\n",
            "Şifrenizi giriniz: kfjkfd\n",
            "False\n",
            "False\n"
          ]
        }
      ]
    },
    {
      "cell_type": "code",
      "source": [
        "yasLimiti = 18\n",
        "yas = int(input(\"Yaşınızı giriniz: \"))\n",
        "kontrol = yas >=yasLimiti\n",
        "print(\"Youtube yayınlarını izleyebilir: \" + str(kontrol))"
      ],
      "metadata": {
        "colab": {
          "base_uri": "https://localhost:8080/"
        },
        "id": "DPj1HN4AYIxd",
        "outputId": "734e73c7-e362-493f-ac7c-46fcf65161e9"
      },
      "execution_count": null,
      "outputs": [
        {
          "output_type": "stream",
          "name": "stdout",
          "text": [
            "Yaşınızı giriniz: 25\n",
            "Youtube yayınlarını izleyebilir: True\n"
          ]
        }
      ]
    },
    {
      "cell_type": "code",
      "source": [
        "#BÖLÜM 3: METİN KATARLARI\n",
        "\n",
        "#BİRBİRİNE BAĞLAMA\n",
        "#Birbirine bağlama artı (+) işlemini kullanarak iki metin katarının birleştirilmesi işlemine denir.\n",
        "\n",
        "#Görev: ad, soyad ve hitap değişkenlerini tek bir çıktıda birleştirecek kodu yazın!\n",
        "hitap = \"Öğr. Gör.\"\n",
        "ad = \"Orçun\"\n",
        "soyad = \"Madran\"\n",
        "\n",
        "# Çıktı: Öğr. Gör. Orçun Madran\n",
        "cikti = hitap + \" \" + ad + \" \" + soyad\n",
        "print(cikti)\n"
      ],
      "metadata": {
        "colab": {
          "base_uri": "https://localhost:8080/"
        },
        "id": "UMJ8tK4RYNDn",
        "outputId": "14fc8769-e00d-4c16-94c6-509361cd6955"
      },
      "execution_count": null,
      "outputs": [
        {
          "output_type": "stream",
          "name": "stdout",
          "text": [
            "Öğr. Gör. Orçun Madran\n"
          ]
        }
      ]
    },
    {
      "cell_type": "code",
      "source": [
        "#METİN KATARI ÇARPIMI\n",
        "#Python, metin katarlarının çarpım sayısı kadar tekrar ettirilmesini desteklemektedir.\n",
        "\n",
        "#Görev: Sizi sürekli bekleten arkadaşınızı uyarabilmek için istediğiniz sayıda \"Hadi!\" kelimesini ekrana yazdırın!\n",
        "metin = \"Hadi! \"\n",
        "metin2 = metin * 5\n",
        "print(metin2)\n",
        "\n",
        "#\n",
        "metin = \"Hadi! \"\n",
        "tekrar = int(input(\"Kaç kere: \"))\n",
        "print(metin * tekrar)\n",
        "\n",
        "#\n",
        "metin = \"Hadi! \\n\"\n",
        "metniCarp = metin * 4\n",
        "print(metniCarp)\n"
      ],
      "metadata": {
        "colab": {
          "base_uri": "https://localhost:8080/"
        },
        "id": "YMuXp8YUjLtc",
        "outputId": "7b53e922-4df9-4547-f43c-fd7e52eb0f2e"
      },
      "execution_count": null,
      "outputs": [
        {
          "output_type": "stream",
          "name": "stdout",
          "text": [
            "Hadi! Hadi! Hadi! Hadi! Hadi! \n",
            "Kaç kere: 7\n",
            "Hadi! Hadi! Hadi! Hadi! Hadi! Hadi! Hadi! \n",
            "Hadi! \n",
            "Hadi! \n",
            "Hadi! \n",
            "Hadi! \n",
            "\n"
          ]
        }
      ]
    },
    {
      "cell_type": "code",
      "source": [
        "#METİN KATARI DİZİNLEME\n",
        "#Konumu biliniyorsa, bir metin katarındaki ilgili karaktere erişilebilir.\n",
        "#Örneğin; str[index] metin katarındaki indeks numarasının karşılık geldiği karakteri geri döndürecektir.\n",
        "# İndekslerin her zaman 0'dan başladığı unutulmamalıdır. İndeksler, sağdan saymaya başlamak için negatif sayılar da olabilir.\n",
        "#-0, 0 ile aynı olduğundan, negatif indeksler -1 ile başlar.\n",
        "\n",
        "#Görev: İndeks numarasını kullanarak metin katarındaki ikinci \"P\" harfini ekrana yazdırın!\n",
        "metin = \"Python Programlama Dili\"\n",
        "\n",
        "# Çıktı: P\n",
        "print(\"'P' harfini yakala: \" + metin[7])"
      ],
      "metadata": {
        "colab": {
          "base_uri": "https://localhost:8080/"
        },
        "id": "H3PH6kvYjk3x",
        "outputId": "b8257576-f600-486b-a9ad-a167da0b1271"
      },
      "execution_count": null,
      "outputs": [
        {
          "output_type": "stream",
          "name": "stdout",
          "text": [
            "'P' harfini yakala: P\n"
          ]
        }
      ]
    },
    {
      "cell_type": "code",
      "source": [
        "#METİN KATARI NEGATİF DİZİNLEME\n",
        "\n",
        "#Metin katarının sonlarında yer alan bir karaktere daha rahat erişebilmek için indeks numarası negatif bir değer olarak belirlenebilir.\n",
        "\n",
        "metin = \"Python Programlama Dili\"\n",
        "\n",
        "#Çıktı: i\n",
        "metinCikti = metin[-1]\n",
        "print(metinCikti)"
      ],
      "metadata": {
        "colab": {
          "base_uri": "https://localhost:8080/"
        },
        "id": "LLQ2vCl6mgMU",
        "outputId": "8fa3243b-81a9-44dd-fe12-8fad470af44b"
      },
      "execution_count": null,
      "outputs": [
        {
          "output_type": "stream",
          "name": "stdout",
          "text": [
            "i\n"
          ]
        }
      ]
    },
    {
      "cell_type": "code",
      "source": [
        "#METİN KATARI DİLİMLEME\n",
        "\n",
        "#Dilimleme, bir metin katarından birden çok karakter (bir alt katar oluşturmak) almak için kullanılır.\n",
        "#Söz dizimi indeks numarası ile bir karaktere erişmeye benzer, ancak iki nokta üst üste işaretiyle ayrılmış iki indeks numarası kullanılır.\n",
        "#Ör: str[ind1:ind2].\n",
        "\n",
        "#İki noktanın solundaki indeks numarası belirlenmezse ilk karakterden itibaren (ilk karakter dahil) seçimin yapılacağı anlamına gelir.\n",
        "#Ör: str[:ind2]\n",
        "\n",
        "#İki  sağındaki indeks numarası belirlenmezse son karaktere kadar (son karakter dahil) seçimin yapılacağı anlamına gelir. \n",
        "#Ör: str[ind1:]\n",
        "\n",
        "\n"
      ],
      "metadata": {
        "id": "m14LNz5hmuVy"
      },
      "execution_count": null,
      "outputs": []
    },
    {
      "cell_type": "code",
      "source": [
        "#syntax:yazım kuralı \n",
        "#python satırı kapatmak için enter'a basmak yeterlidir\n",
        "#tab'a basıldığında alt kod, üstteki kod ile bağlantılı olur\n",
        "#parantez içinde boşluklar da bir karakterdir\n",
        "#üç tırnak işareti toplu kod bloklarını kapatır (''')\n",
        "\n",
        "#Değişkenler: Program açık olduğu sürece hafızada tutulan verilere verilen isim.\n",
        "\n",
        "#eşittir = işareti, bir değeri başka bir değere atar\n",
        "#artı + işareti, iki değişkeni birleştirir\n",
        "#virgül verileri ayırmak için kullanılır\n",
        "\n",
        "#int: tam sayı = hesaplanması gereken şeyler \n",
        "#float: ondalıklı sayı\n",
        "#type: değişken sınıflarını belirlemek için\n",
        "#str: metin işlemi görür\n",
        "\n",
        "#input: klavyeden veri girişi sağlar, pencere açar."
      ],
      "metadata": {
        "id": "HsNRATav4DsY"
      },
      "execution_count": null,
      "outputs": []
    }
  ]
}