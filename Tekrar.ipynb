{
  "nbformat": 4,
  "nbformat_minor": 0,
  "metadata": {
    "colab": {
      "name": "Tekrar.ipynb",
      "provenance": [],
      "authorship_tag": "ABX9TyM3MCUuOvmQwDv3o7+aQDK1",
      "include_colab_link": true
    },
    "kernelspec": {
      "name": "python3",
      "display_name": "Python 3"
    },
    "language_info": {
      "name": "python"
    }
  },
  "cells": [
    {
      "cell_type": "markdown",
      "metadata": {
        "id": "view-in-github",
        "colab_type": "text"
      },
      "source": [
        "<a href=\"https://colab.research.google.com/github/ozgenurkaraagac/hu-bby162-2022/blob/main/Tekrar.ipynb\" target=\"_parent\"><img src=\"https://colab.research.google.com/assets/colab-badge.svg\" alt=\"Open In Colab\"/></a>"
      ]
    },
    {
      "cell_type": "code",
      "execution_count": 2,
      "metadata": {
        "colab": {
          "base_uri": "https://localhost:8080/"
        },
        "id": "NsHZnw2p2vDw",
        "outputId": "474a83e7-9c6f-4ccf-c801-739e164a90c0"
      },
      "outputs": [
        {
          "output_type": "stream",
          "name": "stdout",
          "text": [
            "Selam\n",
            "Merhaba\n"
          ]
        }
      ],
      "source": [
        "#çift ve tek tırnak olarak da kabul edilir\n",
        "print(\"Selam\")\n",
        "print('Merhaba')"
      ]
    },
    {
      "cell_type": "code",
      "source": [
        "#DEĞİŞKEN\n",
        "\n",
        "#DEĞİŞKEN NEDİR?\n",
        "#Değişkenler değerleri depolamak için kullanılır. \n",
        "#Böylece daha sonra bu değişkenler program içinden çağırılarak atanan değer tekrar ve tekrar kullanılabilir.\n",
        "#Değişkenlere metinler ve / veya sayılar atanabilir.\n",
        "#Sayı atamaları direkt rakamların yazılması ile gerçekleştirilirken, metin atamalarında metin tek tırnak içinde ( 'abc' ) ya da çift tırnak ( \"abc\" ) içinde atanır.\n",
        "#Değişkenler etiketlere benzer ve atama operatörü olarak adlandırılan eşittir ( = ) operatörü ile bir değişkene bir değer atanabilir. \n",
        "#Bir değer ataması zincirleme şeklinde gerçekleştirilebilir. Örneğin: a = b = 2\n",
        "\n",
        "#\"a\" ve \"b\" değişkenleri başka metinler ile birlikte ekrana yazdırılmak istendiğinde metin formatına çevrilmesi gerekmektedir.\n",
        "#Bu bağlamda kullanılan \"str(a)\" ve \"str(b)\" ifadeleri eğitimin ilerleyen bölümlerinde anlatılacaktır.\n",
        "\n",
        "a=b=3\n",
        "print('a='+str(a))\n",
        "print('b='+str(b))\n",
        "\n",
        "adsoyad= 'Özgenur Karaağaç'\n",
        "print('Adı Soyadı: '+adsoyad)\n",
        "\n",
        "eposta= 'karaagacozgenur@gmail.com'\n",
        "print('E-posta: '+eposta)\n",
        "\n",
        "#DEĞİŞKEN TANIMLAMA\n",
        "#Değişken isimlerinde uyulması gereken bir takım kurallar vardır:\n",
        "#Rakam ile başlayamaz.\n",
        "#Boşluk kullanılamaz.\n",
        "#Alt tire ( _ ) haricinde bir noktalama işareti kullanılamaz.\n",
        "#Python içinde yerleşik olarak tanımlanmış anahtar kelimeler kullanılamaz (ör: print).\n",
        "#Python 3. sürümden itibaren latin dışı karakter desteği olan \"Unicode\" desteği gelmiştir. Türkçe karakterler değişken isimlerinde kullanılabilir.\n",
        "#Dikkat: Değişken isimleri büyük-küçük harfe duyarlıdır.\n",
        "#Büyük harfle başlanan isimlendirmeler genelde sınıflar için kullanılır.\n",
        "#Değişken isimlerinin daha anlaşılır olması için deve notasyonu (camelCase) ya da alt tire kullanımı tavsiye edilir.\n",
        "\n",
        "degisken = 'Programlama ve Algoritmalar dersi'\n",
        "print(degisken)\n",
        "\n",
        "#DEĞİŞKEN TÜRLERİ\n",
        "#Python'da iki ana sayı türü vardır; tam sayılar ve ondalık sayılar.\n",
        "#Dikkat: Ondalık sayıların yazımında Türkçe'de virgül (,) kullanılmasına rağmen, programlama dillerinin evrensel yazım kuralları içerisinde ondalık sayılar nokta (.) ile ifade edilir.\n",
        "\n",
        "#DEĞİŞKEN TÜRÜ DÖNÜŞTÜRME\n",
        "#Bir veri türünü diğerine dönüştürmenize izin veren birkaç yerleşik fonksiyon (built-in function) vardır.\n",
        "#Bu fonksiyonlar (\"int()\", \"str()\", \"float()\") uygulandıkları değişkeni dönüştürerek yeni bir nesne döndürürler.\n",
        "\n",
        "sayi= 9\n",
        "print(type(sayi))\n",
        "print(sayi)\n",
        "\n",
        "sayi2= 9.2\n",
        "print(type(sayi2))\n",
        "sayi2= int(sayi2)\n",
        "print(type(sayi))\n",
        "print(sayi2)\n",
        "sayi2= float(sayi2)\n",
        "print(type(sayi2))\n",
        "print(sayi2)\n",
        "sayi2= str(sayi2)\n",
        "print(type(sayi2))\n",
        "print(sayi2)\n",
        "\n",
        "#ARİTMETİK OPERATÖRLER\n",
        "#Diğer tüm programlama dillerinde olduğu gibi, toplama (+), çıkarma (-), çarpma (yıldız) ve bölme (/) operatörleri sayılarla kullanılabilir.\n",
        "#Bunlarla birlikte Python'un üs (çift yıldız) ve mod (%) operatörleri vardır.\n",
        "#Dikkat: Matematik işlemlerinde geçerli olan aritmetik operatörlerin öncelik sıralamaları (çarpma, bölme, toplama, çıkarma) ve parantezlerin önceliği kuralları Python içindeki matematiksel işlemler için de geçerlidir.\n",
        "\n",
        "islem = 9.0\n",
        "sonuc = islem + 4.5 #toplama\n",
        "print(sonuc)\n",
        "\n",
        "islem2 = 7\n",
        "sonuc2 = sonuc - islem2 #çıkarma\n",
        "print(sonuc2)\n",
        "\n",
        "islem3 = 10\n",
        "sonuc = islem3 * 3 #çarpma\n",
        "print(sonuc)\n",
        "\n",
        "islem = 60\n",
        "sonuc = islem / 5 #bölme\n",
        "print(sonuc)\n",
        "\n",
        "islem= 3\n",
        "sonuc= islem ** 5 #üs alma\n",
        "print(sonuc)\n",
        "\n",
        "islem= 74\n",
        "sonuc = islem % 6\n",
        "print(sonuc)"
      ],
      "metadata": {
        "colab": {
          "base_uri": "https://localhost:8080/"
        },
        "id": "OGaSTepH8Jd3",
        "outputId": "7272c6e6-f1fb-4ca1-f094-4db405b653a4"
      },
      "execution_count": 19,
      "outputs": [
        {
          "output_type": "stream",
          "name": "stdout",
          "text": [
            "a=3\n",
            "b=3\n",
            "Adı Soyadı: Özgenur Karaağaç\n",
            "E-posta: karaagacozgenur@gmail.com\n",
            "Programlama ve Algoritmalar dersi\n",
            "<class 'int'>\n",
            "9\n",
            "<class 'float'>\n",
            "<class 'int'>\n",
            "9\n",
            "<class 'float'>\n",
            "9.0\n",
            "<class 'str'>\n",
            "9.0\n",
            "13.5\n",
            "6.5\n",
            "30\n",
            "12.0\n",
            "243\n",
            "2\n"
          ]
        }
      ]
    },
    {
      "cell_type": "code",
      "source": [
        "#Aşağıda değer atamaları tamamlanmış olan değişkenleri kullanarak ürünlerin peşin satın alınma bedelini TL olarak hesaplayınız ve ürün adı ile birlikte ekrana yazdırınız!\n",
        "#İpucu: Ürün adını ve ürün bedelini tek bir satırda yazdırmak isterseniz ürün bedelini str() fonksiyonu ile düz metin değişken türüne çevirmeniz gerekir.\n",
        "\n",
        "urunAdi = \"Bisiklet\"\n",
        "urunBedeliAvro = 850\n",
        "pariteAvroTL = 7\n",
        "urunAdet = 3\n",
        "pesinAdetIndirimTL = 500\n",
        "\n",
        "#peşin satın alma bedelini TL olarak hesapla\n",
        "sonuc = urunBedeliAvro * 7\n",
        "print(sonuc)\n",
        "\n",
        "sonuc = urunAdet * 5950\n",
        "print(sonuc)\n",
        "\n",
        "sonuc = pesinAdetIndirimTL * urunAdet\n",
        "print(sonuc)\n",
        "\n",
        "sonuc = 5950 - 1500\n",
        "print(sonuc)\n",
        "\n",
        "print ('Bisiklet: ' + str(4450) + 'TL')\n",
        "\n",
        "#\n",
        "urunAdi = \"Bisiklet\"\n",
        "urunBedeliAvro = 850\n",
        "kurAvro = 10\n",
        "urunAdet = 1\n",
        "pesinAdetIndirimTL = 500\n",
        "butce = 15000\n",
        "\n",
        "hesapla = ((urunBedeliAvro * urunAdet) * kurAvro) - pesinAdetIndirimTL\n",
        "butceTamam = butce > hesapla\n",
        "print(hesapla)\n",
        "print(\"Alışveriş bütçeme uygun mu? \" + str(butceTamam))\n",
        "\n",
        "#"
      ],
      "metadata": {
        "colab": {
          "base_uri": "https://localhost:8080/"
        },
        "id": "7F_yS_LGITkl",
        "outputId": "04cde147-ce9f-4dc5-b995-511723e3ebac"
      },
      "execution_count": 21,
      "outputs": [
        {
          "output_type": "stream",
          "name": "stdout",
          "text": [
            "5950\n",
            "17850\n",
            "1500\n",
            "4450\n",
            "Bisiklet: 4450TL\n",
            "8000\n",
            "Alışveriş bütçeme uygun mu? True\n"
          ]
        }
      ]
    },
    {
      "cell_type": "code",
      "source": [
        "#syntax:yazım kuralı \n",
        "#python satırı kapatmak için enter'a basmak yeterlidir\n",
        "#tab'a basıldığında alt kod, üstteki kod ile bağlantılı olur\n",
        "#parantez içinde boşluklar da bir karakterdir\n",
        "#üç tırnak işareti toplu kod bloklarını kapatır (''')\n",
        "\n",
        "#Değişkenler: Program açık olduğu sürece hafızada tutulan verilere verilen isim.\n",
        "\n",
        "#eşittir = işareti, bir değeri başka bir değere atar\n",
        "#artı + işareti, iki değişkeni birleştirir\n",
        "#virgül verileri ayırmak için kullanılır\n",
        "\n",
        "#int: tam sayı = hesaplanması gereken şeyler \n",
        "#float: ondalıklı sayı\n",
        "#type: değişken sınıflarını belirlemek için\n",
        "#str: metin işlemi görür\n",
        "\n",
        "#input: klavyeden veri girişi sağlar, pencere açar."
      ],
      "metadata": {
        "id": "HsNRATav4DsY"
      },
      "execution_count": null,
      "outputs": []
    }
  ]
}