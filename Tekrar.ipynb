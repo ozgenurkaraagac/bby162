{
  "nbformat": 4,
  "nbformat_minor": 0,
  "metadata": {
    "colab": {
      "name": "Tekrar.ipynb",
      "provenance": [],
      "authorship_tag": "ABX9TyNotqsMRjsE4q4MOlo8a26X",
      "include_colab_link": true
    },
    "kernelspec": {
      "name": "python3",
      "display_name": "Python 3"
    },
    "language_info": {
      "name": "python"
    }
  },
  "cells": [
    {
      "cell_type": "markdown",
      "metadata": {
        "id": "view-in-github",
        "colab_type": "text"
      },
      "source": [
        "<a href=\"https://colab.research.google.com/github/ozgenurkaraagac/hu-bby162-2022/blob/main/Tekrar.ipynb\" target=\"_parent\"><img src=\"https://colab.research.google.com/assets/colab-badge.svg\" alt=\"Open In Colab\"/></a>"
      ]
    },
    {
      "cell_type": "code",
      "execution_count": null,
      "metadata": {
        "id": "VGOPkFrNNUZr"
      },
      "outputs": [],
      "source": [
        "#Kelime Tahmini Liste\n",
        "import random\n",
        "print(\"Kelime tahmin oyununa hoşgeldiniz...!\")\n",
        "kelime = [\"bilgi\", \"veri\", \"katalog\", \"kütüphane\"]\n",
        "ipucu = [\"bilgi ipucu\", \"veri ipucu\", \"katalog ipucu\", \"kütüphane ipucu\"]\n",
        "toplamKelime = len(kelime) - 1\n",
        "sec = (random.randrange(0, toplamKelime))\n",
        "print(\"İpucu: \"+ ipucu[sec])\n",
        "secilen = kelime[sec]\n",
        "can = 3\n",
        "while True:\n",
        "  tahmin = input(\"Tahmininizi giriniz: \")\n",
        "  if secilen == tahmin:\n",
        "    print(\"bildiniz\")\n",
        "    break\n",
        "  else:\n",
        "    print(\"bilemediniz\")\n",
        "    can -=1\n",
        "    print(\"Kalan can sayısı: \"+str(can))\n",
        "    if can == 0:\n",
        "      break"
      ]
    },
    {
      "cell_type": "code",
      "source": [
        "#Kelime Tahmini Sözlük\n",
        "import random\n",
        "print(\"Kelime tahmin oyununa hoşgeldiniz...!\")\n",
        "kelimeler = {\"bilgi\":\"bilgi ipucu\", \"veri\":\"veri ipucu\", \"katalog\":\"katalog ipucu\", \"kütüphane\":\"kütüphane ipucu\"}\n",
        "secilen = random.choice(list(kelimeler.keys()))\n",
        "print(\"İpucu: \"+ kelimeler[secilen])\n",
        "can = 3\n",
        "while True:\n",
        "  tahmin = input(\"Tahmininizi giriniz: \")\n",
        "  if secilen == tahmin:\n",
        "    print(\"Tebrikler bildiniz ve oyunu kazandınız!\")\n",
        "    break\n",
        "  else:\n",
        "    print(\"Yanlış cevap, bir daha deneyiniz...\")\n",
        "    can -=1\n",
        "    print(\"Kalan can sayısı: \"+str(can))\n",
        "    if can == 0:\n",
        "      print(\"Oyunu kaybettiniz!!!\")\n",
        "      break"
      ],
      "metadata": {
        "id": "aSDw1b2mNfuU"
      },
      "execution_count": null,
      "outputs": []
    },
    {
      "cell_type": "code",
      "source": [
        "#Menü Sistemi\n",
        "liste = []\n",
        "\n",
        "def listeEkle():\n",
        "  ekle = input(\"Yeni liste elemanı: \")\n",
        "  liste.append(ekle)\n",
        "  print(liste)\n",
        "\n",
        "def listeTemizle():\n",
        "  liste = []\n",
        "  print(liste)\n",
        "\n",
        "def listeSil():\n",
        "  sil = input(\"Silinecek eleman: \")\n",
        "  liste.remove(sil)\n",
        "  print(liste)\n",
        "\n",
        "def elemanGoster(gosterilecek=0):\n",
        "  print(liste[gosterilecek])\n",
        "\n",
        "def menu():\n",
        "  while True:\n",
        "    print(\"1)Ekle - 2)Sil - 3)Temizle - 4)Göster - 0)Çıkış\")\n",
        "    calistir = input(\"Hangi foksiyon: \")\n",
        "    if calistir == \"1\":\n",
        "      listeEkle()\n",
        "    elif calistir == \"2\":\n",
        "      listeSil()\n",
        "    elif calistir == \"3\":\n",
        "      listeTemizle()\n",
        "    elif calistir == \"4\":\n",
        "      gosterilecek = int(input(\"Elemanın indeks numarasını girin: \"))\n",
        "      elemanGoster(gosterilecek)\n",
        "    elif calistir == \"0\":\n",
        "      print(\"Program kapatıldı\")\n",
        "      break\n",
        "    else:\n",
        "      print(\"Seçtiğiniz komut tanımlı değil..!\")\n",
        "\n",
        "menu()"
      ],
      "metadata": {
        "id": "1zK4klt8Nu-r"
      },
      "execution_count": null,
      "outputs": []
    },
    {
      "cell_type": "code",
      "source": [
        "#Sayısal Loto Fonksiyonlu\n",
        "from random import randint\n",
        "print(\"Şans Oyunları Platformu\")\n",
        "rakam = int(input(\"Kaç tane rakam tahmin etsin: \"))\n",
        "satir = int(input(\"Kaç kolon oynamak istiyorsun: \"))\n",
        "baslangic = int(input(\"Başlangıç rakamı: \"))\n",
        "bitis = int(input(\"Bitiş rakamı: \"))\n",
        "def tahminEt(rakam=6, satir=6, baslangic=1, bitis=49):\n",
        "  i = 0\n",
        "  secilenler = []\n",
        "  for liste in range(rakam):\n",
        "    secilenler.append(0)\n",
        "  for olustur in range(satir):\n",
        "      while i < len(secilenler):\n",
        "          secilen = randint(baslangic, bitis)\n",
        "          if secilen not in secilenler:\n",
        "              secilenler[i] = secilen\n",
        "              i+=1\n",
        "      print(sorted(secilenler))\n",
        "      i=0\n",
        "tahminEt(rakam, satir, baslangic, bitis)"
      ],
      "metadata": {
        "id": "U5minXUHN2i2"
      },
      "execution_count": null,
      "outputs": []
    }
  ]
}