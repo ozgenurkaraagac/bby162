{
  "nbformat": 4,
  "nbformat_minor": 0,
  "metadata": {
    "colab": {
      "name": "proje04.ipynb",
      "provenance": [],
      "mount_file_id": "1ofYIFgkitOkYXG2E1sfM46KlHEU9Sa3W",
      "authorship_tag": "ABX9TyOH+BTNC/7//HK+AkkfAy7J",
      "include_colab_link": true
    },
    "kernelspec": {
      "name": "python3",
      "display_name": "Python 3"
    },
    "language_info": {
      "name": "python"
    }
  },
  "cells": [
    {
      "cell_type": "markdown",
      "metadata": {
        "id": "view-in-github",
        "colab_type": "text"
      },
      "source": [
        "<a href=\"https://colab.research.google.com/github/ozgenurkaraagac/hu-bby162-2022/blob/main/proje04.ipynb\" target=\"_parent\"><img src=\"https://colab.research.google.com/assets/colab-badge.svg\" alt=\"Open In Colab\"/></a>"
      ]
    },
    {
      "cell_type": "code",
      "execution_count": null,
      "metadata": {
        "id": "lVO1c3tZAn6D"
      },
      "outputs": [],
      "source": [
        "#Kütüphane Kataloğu\n",
        "\n",
        "dosya = \"/content/drive/MyDrive/Colab Notebooks/veritabani.txt\"\n",
        "\n",
        "def kayitleriListele():\n",
        "  veri = open(dosya, \"r\")\n",
        "  for line in veri.readlines():\n",
        "    print(line)\n",
        "    veri.close()\n",
        "\n",
        "def yeniKayitEkle():\n",
        "  kitapAdi = input(\"Kitap adını giriniz: \")\n",
        "  yazarAdi = input(\"Yazar adını giriniz: \")\n",
        "  basimYili = input(\"Basım yılını giriniz: \")\n",
        "  yayinevi = input(\"Yayınevini giriniz: \")\n",
        "  veri = open(dosya, \"a\")\n",
        "  veri.write(kitapAdi + \" , \"+ yazarAdi + \" , \" + basimYili + \" , \"+yayinevi +\"\\n\")\n",
        "  veri.close()\n",
        "\n",
        "def kayitAra():\n",
        "  kayit = open(dosya, \"r\") #belgeyi oku\n",
        "  ara = input(\"Aramak istediğiniz kitap adı: \").lower()\n",
        "  aranan = kayit.read().find(ara)\n",
        "  if aranan:\n",
        "    print(\"Aranan kitap var\")\n",
        "  else:\n",
        "    print(\"Aranan kitap yok\")\n",
        " \n",
        "\n",
        "\n",
        "def menu():\n",
        "  while True:\n",
        "    print(\"\\nKütüphane Kataloğuna Hoşgeldiniz :)\")\n",
        "    secim = input(\"\\nYapmak istediğiniz işlem nedir? \\n 1)Kayıtları listele \\n 2)Yeni kayıt ekle \\n 3)Kayıt ara \\n 4)Çıkış \\n\")\n",
        "    if secim == \"1\":\n",
        "      kayitleriListele()\n",
        "    elif secim == \"2\":\n",
        "      yeniKayitEkle()\n",
        "    elif secim == \"3\":\n",
        "      kayitAra()\n",
        "    elif secim == \"4\":\n",
        "      print(\"\\nKatalogdan çıkmak istediğine emin misin? (e/h)\").lower()\n",
        "      cik = input()\n",
        "      if cik == \"e\":\n",
        "        print(\"\\nÇıkış yapıldı :(\")\n",
        "        break\n",
        "      else:\n",
        "        (\"\\nYapmak istediğiniz işlem nedir? \\n 1)Kayıtları listele \\n 2)Yeni kayıt ekle \\n 3)Kayıt ara \\n 4)Çıkış\")\n",
        "\n",
        "menu()"
      ]
    }
  ]
}