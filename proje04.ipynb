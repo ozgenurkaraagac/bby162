{
  "cells": [
    {
      "cell_type": "markdown",
      "metadata": {
        "id": "view-in-github",
        "colab_type": "text"
      },
      "source": [
        "<a href=\"https://colab.research.google.com/github/ozgenurkaraagac/hu-bby162-2022/blob/main/proje04.ipynb\" target=\"_parent\"><img src=\"https://colab.research.google.com/assets/colab-badge.svg\" alt=\"Open In Colab\"/></a>"
      ]
    },
    {
      "cell_type": "code",
      "execution_count": 7,
      "metadata": {
        "colab": {
          "base_uri": "https://localhost:8080/"
        },
        "id": "lVO1c3tZAn6D",
        "outputId": "b48ec346-1928-4339-bc52-d23d6017b975"
      },
      "outputs": [
        {
          "output_type": "stream",
          "name": "stdout",
          "text": [
            "\n",
            "Kütüphane Kataloğuna Hoşgeldiniz :)\n",
            "\n",
            "Yapmak istediğiniz işlem nedir? \n",
            " 1)Kayıtları listele \n",
            " 2)Yeni kayıt ekle \n",
            " 3)Kayıt ara \n",
            " 4)Çıkış \n",
            "1\n",
            "Olasılıksız - Adam Fawer - 2009 - April Yayıncılık\n",
            "\n",
            "Savaş ve Barış - Tolstoy - 1987 - Oda Yayınları\n",
            "\n",
            "Sapiens - Yuval Noah Harari - 2016 - Kolektif Kitap\n",
            "\n",
            "Sınırsız Güç - Anthony Robbins - 2008 - İnkılab Kitabevi\n",
            "\n",
            "Kehanet - John Kilgallon - 2011 - Pegasus Yayınları\n",
            "\n",
            "Simyacı - Paulo Coelho - 2017 - Can Yayınları\n",
            "\n",
            "Sergüzeşt - Samipaşazade Sezai - 2004 - Bordo Siyah Klasik YayınlarıBen Kirke , Madaline Miller , 2019 , İthaki Yayınları\n",
            "\n",
            "\n",
            "Kütüphane Kataloğuna Hoşgeldiniz :)\n",
            "\n",
            "Yapmak istediğiniz işlem nedir? \n",
            " 1)Kayıtları listele \n",
            " 2)Yeni kayıt ekle \n",
            " 3)Kayıt ara \n",
            " 4)Çıkış \n",
            "2\n",
            "Kitap adını giriniz: Ben Kirke\n",
            "Yazar adını giriniz: Madeline Miller\n",
            "Basım yılını giriniz: 2019\n",
            "Yayınevini giriniz: İthaki Yayınları\n",
            "\n",
            "Kütüphane Kataloğuna Hoşgeldiniz :)\n",
            "\n",
            "Yapmak istediğiniz işlem nedir? \n",
            " 1)Kayıtları listele \n",
            " 2)Yeni kayıt ekle \n",
            " 3)Kayıt ara \n",
            " 4)Çıkış \n",
            "4\n",
            "\n",
            "Katalogdan çıkmak istediğine emin misin? (e/h)\n",
            "e\n",
            "\n",
            "Çıkış yapıldı :(\n"
          ]
        }
      ],
      "source": [
        "#Kütüphane Kataloğu\n",
        "\n",
        "dosya = \"/content/drive/MyDrive/Colab Notebooks/veritabani.txt\"\n",
        "\n",
        "def kayitleriListele():\n",
        "  veri = open(dosya, \"r\")\n",
        "  for line in veri.readlines():\n",
        "    print(line)\n",
        "    veri.close()\n",
        "\n",
        "def yeniKayitEkle():\n",
        "  kitapAdi = input(\"Kitap adını giriniz: \")\n",
        "  yazarAdi = input(\"Yazar adını giriniz: \")\n",
        "  basimYili = input(\"Basım yılını giriniz: \")\n",
        "  yayinevi = input(\"Yayınevini giriniz: \")\n",
        "  veri = open(dosya, \"a\")\n",
        "  veri.write(kitapAdi + \" , \"+ yazarAdi + \" , \" + basimYili + \" , \"+yayinevi +\"\\n\")\n",
        "  veri.close()\n",
        "\n",
        "def kayitAra():\n",
        "  kayit = open(dosya, \"r\") #belgeyi oku\n",
        "  ara = input(\"Aramak istediğiniz kitap adı: \").lower()\n",
        "  aranan = kayit.read().find(ara)\n",
        "  if aranan:\n",
        "    print(\"Aranan kitap var\")\n",
        "  else:\n",
        "    print(\"Aranan kitap yok\")\n",
        " \n",
        "\n",
        "\n",
        "def menu():\n",
        "  while True:\n",
        "    print(\"\\nKütüphane Kataloğuna Hoşgeldiniz :)\")\n",
        "    secim = input(\"\\nYapmak istediğiniz işlem nedir? \\n 1)Kayıtları listele \\n 2)Yeni kayıt ekle \\n 3)Kayıt ara \\n 4)Çıkış \\n\")\n",
        "    if secim == \"1\":\n",
        "      kayitleriListele()\n",
        "    elif secim == \"2\":\n",
        "      yeniKayitEkle()\n",
        "    elif secim == \"3\":\n",
        "      kayitAra()\n",
        "    elif secim == \"4\":\n",
        "      print(\"\\nKatalogdan çıkmak istediğine emin misin? (e/h)\")\n",
        "      cik = input()\n",
        "      if cik == \"e\":\n",
        "        print(\"\\nÇıkış yapıldı :(\")\n",
        "        break\n",
        "      else:\n",
        "        (\"\\nYapmak istediğiniz işlem nedir? \\n 1)Kayıtları listele \\n 2)Yeni kayıt ekle \\n 3)Kayıt ara \\n 4)Çıkış\")\n",
        "\n",
        "menu()"
      ]
    }
  ],
  "metadata": {
    "colab": {
      "name": "proje04.ipynb",
      "provenance": [],
      "mount_file_id": "1ofYIFgkitOkYXG2E1sfM46KlHEU9Sa3W",
      "authorship_tag": "ABX9TyP50xgC6fyB0cSpa1R2oBGM",
      "include_colab_link": true
    },
    "kernelspec": {
      "display_name": "Python 3",
      "name": "python3"
    },
    "language_info": {
      "name": "python"
    }
  },
  "nbformat": 4,
  "nbformat_minor": 0
}