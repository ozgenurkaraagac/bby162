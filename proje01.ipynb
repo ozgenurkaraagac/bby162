{
  "nbformat": 4,
  "nbformat_minor": 0,
  "metadata": {
    "colab": {
      "name": "proje01.ipynb",
      "provenance": [],
      "authorship_tag": "ABX9TyOV60GD1amHGHKDvfQCdL5q",
      "include_colab_link": true
    },
    "kernelspec": {
      "name": "python3",
      "display_name": "Python 3"
    },
    "language_info": {
      "name": "python"
    }
  },
  "cells": [
    {
      "cell_type": "markdown",
      "metadata": {
        "id": "view-in-github",
        "colab_type": "text"
      },
      "source": [
        "<a href=\"https://colab.research.google.com/github/ozgenurkaraagac/hu-bby162-2022/blob/main/proje01.ipynb\" target=\"_parent\"><img src=\"https://colab.research.google.com/assets/colab-badge.svg\" alt=\"Open In Colab\"/></a>"
      ]
    },
    {
      "cell_type": "code",
      "execution_count": null,
      "metadata": {
        "colab": {
          "base_uri": "https://localhost:8080/"
        },
        "id": "-leXEcsazVAX",
        "outputId": "44978b3f-a48e-4df0-fe16-1538c152e382"
      },
      "outputs": [
        {
          "output_type": "stream",
          "name": "stdout",
          "text": [
            "İndeks numaranızı giriniz: meow\n",
            "İndeks dışı giriş...\n"
          ]
        }
      ],
      "source": [
        "liste = ['tavşan', 'marul', 'leopar', 'salam', 'köpüş', 'mama']\n",
        "secim =input('İndeks numaranızı giriniz: ')\n",
        "if secim.isdigit():\n",
        "  secim = int(secim)\n",
        "  listetoplam = len(liste)\n",
        "  if secim < listetoplam:\n",
        "    print(liste[secim])\n",
        "else:\n",
        "  print('İndeks dışı giriş...')"
      ]
    }
  ]
}