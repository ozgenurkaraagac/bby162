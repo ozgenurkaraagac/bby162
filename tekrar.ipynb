{
  "cells": [
    {
      "cell_type": "markdown",
      "metadata": {
        "id": "view-in-github",
        "colab_type": "text"
      },
      "source": [
        "<a href=\"https://colab.research.google.com/github/ozgenurkaraagac/hu-bby162-2022/blob/main/tekrar.ipynb\" target=\"_parent\"><img src=\"https://colab.research.google.com/assets/colab-badge.svg\" alt=\"Open In Colab\"/></a>"
      ]
    },
    {
      "cell_type": "code",
      "execution_count": null,
      "metadata": {
        "id": "VGOPkFrNNUZr"
      },
      "outputs": [],
      "source": [
        "#Kelime Tahmini Liste\n",
        "import random\n",
        "print(\"Kelime tahmin oyununa hoşgeldiniz...!\")\n",
        "kelime = [\"bilgi\", \"veri\", \"katalog\", \"kütüphane\"]\n",
        "ipucu = [\"bilgi ipucu\", \"veri ipucu\", \"katalog ipucu\", \"kütüphane ipucu\"]\n",
        "toplamKelime = len(kelime) - 1\n",
        "sec = (random.randrange(0, toplamKelime))\n",
        "print(\"İpucu: \"+ ipucu[sec])\n",
        "secilen = kelime[sec]\n",
        "can = 3\n",
        "while True:\n",
        "  tahmin = input(\"Tahmininizi giriniz: \")\n",
        "  if secilen == tahmin:\n",
        "    print(\"bildiniz\")\n",
        "    break\n",
        "  else:\n",
        "    print(\"bilemediniz\")\n",
        "    can -=1\n",
        "    print(\"Kalan can sayısı: \"+str(can))\n",
        "    if can == 0:\n",
        "      break"
      ]
    },
    {
      "cell_type": "code",
      "execution_count": null,
      "metadata": {
        "colab": {
          "background_save": true
        },
        "id": "aSDw1b2mNfuU",
        "outputId": "6e6fb6ee-53df-41ac-db93-4b4d067f6a70"
      },
      "outputs": [
        {
          "name": "stdout",
          "output_type": "stream",
          "text": [
            "Kelime tahmin oyununa hoşgeldiniz...!\n",
            "İpucu: kütüphane ipucu\n"
          ]
        }
      ],
      "source": [
        "#Kelime Tahmini Sözlük\n",
        "import random\n",
        "print(\"Kelime tahmin oyununa hoşgeldiniz...!\")\n",
        "kelimeler = {\"bilgi\":\"bilgi ipucu\", \"veri\":\"veri ipucu\", \"katalog\":\"katalog ipucu\", \"kütüphane\":\"kütüphane ipucu\"}\n",
        "secilen = random.choice(list(kelimeler.keys()))\n",
        "print(\"İpucu: \"+ kelimeler[secilen])\n",
        "can = 3\n",
        "while True:\n",
        "  tahmin = input(\"Tahmininizi giriniz: \")\n",
        "  if secilen == tahmin:\n",
        "    print(\"Tebrikler bildiniz ve oyunu kazandınız!\")\n",
        "    break\n",
        "  else:\n",
        "    print(\"Yanlış cevap, bir daha deneyiniz...\")\n",
        "    can -=1\n",
        "    print(\"Kalan can sayısı: \"+str(can))\n",
        "    if can == 0:\n",
        "      print(\"Oyunu kaybettiniz!!!\")\n",
        "      break"
      ]
    },
    {
      "cell_type": "code",
      "execution_count": null,
      "metadata": {
        "colab": {
          "base_uri": "https://localhost:8080/"
        },
        "id": "1zK4klt8Nu-r",
        "outputId": "a859ab56-a840-4080-b05d-4976ea175a25"
      },
      "outputs": [
        {
          "output_type": "stream",
          "name": "stdout",
          "text": [
            "1)Ekle - 2)Sil - 3)Temizle - 4)Göster - 0)Çıkış\n",
            "Hangi foksiyon: 0\n",
            "Program kapatıldı\n"
          ]
        }
      ],
      "source": [
        "#Menü Sistemi\n",
        "liste = []\n",
        "\n",
        "def listeEkle():\n",
        "  ekle = input(\"Yeni liste elemanı: \")\n",
        "  liste.append(ekle)\n",
        "  print(liste)\n",
        "\n",
        "def listeTemizle():\n",
        "  liste = []\n",
        "  print(liste)\n",
        "\n",
        "def listeSil():\n",
        "  sil = input(\"Silinecek eleman: \")\n",
        "  liste.remove(sil)\n",
        "  print(liste)\n",
        "\n",
        "def elemanGoster(gosterilecek=0):\n",
        "  print(liste[gosterilecek])\n",
        "\n",
        "def menu():\n",
        "  while True:\n",
        "    print(\"1)Ekle - 2)Sil - 3)Temizle - 4)Göster - 0)Çıkış\")\n",
        "    calistir = input(\"Hangi foksiyon: \")\n",
        "    if calistir == \"1\":\n",
        "      listeEkle()\n",
        "    elif calistir == \"2\":\n",
        "      listeSil()\n",
        "    elif calistir == \"3\":\n",
        "      listeTemizle()\n",
        "    elif calistir == \"4\":\n",
        "      gosterilecek = int(input(\"Elemanın indeks numarasını girin: \"))\n",
        "      elemanGoster(gosterilecek)\n",
        "    elif calistir == \"0\":\n",
        "      print(\"Program kapatıldı\")\n",
        "      break\n",
        "    else:\n",
        "      print(\"Seçtiğiniz komut tanımlı değil..!\")\n",
        "\n",
        "menu()"
      ]
    },
    {
      "cell_type": "code",
      "execution_count": null,
      "metadata": {
        "id": "U5minXUHN2i2"
      },
      "outputs": [],
      "source": [
        "#Sayısal Loto Fonksiyonlu\n",
        "from random import randint\n",
        "print(\"Şans Oyunları Platformu\")\n",
        "rakam = int(input(\"Kaç tane rakam tahmin etsin: \"))\n",
        "satir = int(input(\"Kaç kolon oynamak istiyorsun: \"))\n",
        "baslangic = int(input(\"Başlangıç rakamı: \"))\n",
        "bitis = int(input(\"Bitiş rakamı: \"))\n",
        "def tahminEt(rakam=6, satir=6, baslangic=1, bitis=49):\n",
        "  i = 0\n",
        "  secilenler = []\n",
        "  for liste in range(rakam):\n",
        "    secilenler.append(0)\n",
        "  for olustur in range(satir):\n",
        "      while i < len(secilenler):\n",
        "          secilen = randint(baslangic, bitis)\n",
        "          if secilen not in secilenler:\n",
        "              secilenler[i] = secilen\n",
        "              i+=1\n",
        "      print(sorted(secilenler))\n",
        "      i=0\n",
        "tahminEt(rakam, satir, baslangic, bitis)"
      ]
    },
    {
      "cell_type": "code",
      "source": [
        "#Adam Asmaca\n",
        "\n",
        "from random import randint\n",
        "\n",
        "adamCan = 3\n",
        "\n",
        "kelimeler = [\"bisiklet\", \"triatlon\", \"yüzme\", \"koşu\"]\n",
        "kelimeSayisi = len(kelimeler)\n",
        "secilen = randint(0, kelimeSayisi-1)\n",
        "secilenKelime = kelimeler[secilen]\n",
        "print(secilenKelime)\n",
        "dizilenKelime = []\n",
        "for diz in kelimeler[secilen]:\n",
        "    dizilenKelime.append(\"_\")\n",
        "print(dizilenKelime)\n",
        "\n",
        "while adamCan > 0:\n",
        "    girilenHarf = input(\"Bir harf giriniz: \")\n",
        "    canKontrol = girilenHarf in secilenKelime\n",
        "    if canKontrol == False:\n",
        "        adamCan-=1\n",
        "    i = 0\n",
        "    for kontrol in secilenKelime:\n",
        "        if secilenKelime[i] == girilenHarf:\n",
        "            dizilenKelime[i] = girilenHarf\n",
        "        i+=1\n",
        "    print(dizilenKelime)\n",
        "    print(\"Kalan can: \"+ str(adamCan))"
      ],
      "metadata": {
        "id": "vjGeWh3c4LKJ",
        "outputId": "fc40b967-9d3a-460a-ce91-9a7cd107be1f",
        "colab": {
          "base_uri": "https://localhost:8080/"
        }
      },
      "execution_count": null,
      "outputs": [
        {
          "output_type": "stream",
          "name": "stdout",
          "text": [
            "bisiklet\n",
            "['_', '_', '_', '_', '_', '_', '_', '_']\n",
            "Bir harf giriniz: y\n",
            "['_', '_', '_', '_', '_', '_', '_', '_']\n",
            "Kalan can: 2\n"
          ]
        }
      ]
    },
    {
      "cell_type": "code",
      "source": [
        "\"\"\"\n",
        "6 Şubat 2018, Salı, Ankara, Türkiye\n",
        "Sayısal Loto; klasikleşmiş bir \"ROM Hello World\" uygulaması ;)\n",
        "www.madran.net\n",
        "\"\"\"\n",
        "from random import randint\n",
        "i = 0\n",
        "secilenler = [0,0,0,0,0,0]\n",
        "for rastgele in secilenler:\n",
        "    while i < len(secilenler):\n",
        "        secilen = randint(1, 49)\n",
        "        if secilen not in secilenler:\n",
        "            secilenler[i] = secilen\n",
        "            i+=1\n",
        "    print(sorted(secilenler))\n",
        "    i=0"
      ],
      "metadata": {
        "id": "RzB_Ehxe4UbP"
      },
      "execution_count": null,
      "outputs": []
    }
  ],
  "metadata": {
    "colab": {
      "name": "tekrar.ipynb",
      "provenance": [],
      "authorship_tag": "ABX9TyO/42FwKvgVZLAZTaNw8q8m",
      "include_colab_link": true
    },
    "kernelspec": {
      "display_name": "Python 3",
      "name": "python3"
    },
    "language_info": {
      "name": "python"
    }
  },
  "nbformat": 4,
  "nbformat_minor": 0
}