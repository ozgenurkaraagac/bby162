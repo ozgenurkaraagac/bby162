{
  "nbformat": 4,
  "nbformat_minor": 0,
  "metadata": {
    "colab": {
      "name": "sozluk.ipynb",
      "provenance": [],
      "authorship_tag": "ABX9TyNIEtRdyFYy6s8nyzjH9BA+",
      "include_colab_link": true
    },
    "kernelspec": {
      "name": "python3",
      "display_name": "Python 3"
    },
    "language_info": {
      "name": "python"
    }
  },
  "cells": [
    {
      "cell_type": "markdown",
      "metadata": {
        "id": "view-in-github",
        "colab_type": "text"
      },
      "source": [
        "<a href=\"https://colab.research.google.com/github/ozgenurkaraagac/hu-bby162-2022/blob/main/sozluk.ipynb\" target=\"_parent\"><img src=\"https://colab.research.google.com/assets/colab-badge.svg\" alt=\"Open In Colab\"/></a>"
      ]
    },
    {
      "cell_type": "code",
      "execution_count": null,
      "metadata": {
        "id": "f17T-0-ZWqzM"
      },
      "outputs": [],
      "source": [
        ""
      ]
    }
  ]
}