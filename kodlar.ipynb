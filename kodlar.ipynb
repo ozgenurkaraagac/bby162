{
  "nbformat": 4,
  "nbformat_minor": 0,
  "metadata": {
    "colab": {
      "name": "kodlar.ipynb",
      "provenance": [],
      "authorship_tag": "ABX9TyOO+E0CWiQYiw+TKk2Q/3Xz",
      "include_colab_link": true
    },
    "kernelspec": {
      "name": "python3",
      "display_name": "Python 3"
    },
    "language_info": {
      "name": "python"
    }
  },
  "cells": [
    {
      "cell_type": "markdown",
      "metadata": {
        "id": "view-in-github",
        "colab_type": "text"
      },
      "source": [
        "<a href=\"https://colab.research.google.com/github/ozgenurkaraagac/hu-bby162-2022/blob/main/kodlar.ipynb\" target=\"_parent\"><img src=\"https://colab.research.google.com/assets/colab-badge.svg\" alt=\"Open In Colab\"/></a>"
      ]
    },
    {
      "cell_type": "code",
      "execution_count": null,
      "metadata": {
        "id": "BW4R9zAbpqa7"
      },
      "outputs": [],
      "source": [
        "# bisiklet.py adlı modülün içeriği\n",
        "\"\"\"\n",
        "Bu modül içinde Bisiklet sınıfı yer almaktadır.\n",
        "\"\"\"\n",
        "class Bisiklet:\n",
        "    renk = \"Kırmızı\"\n",
        "    vites = 1\n",
        "    def ozellikler(self):\n",
        "        ozellikDetay = \"Bu bisiklet %s renkli ve %d viteslidir.\" % (self.renk, self.vites)\n",
        "        return ozellikDetay"
      ]
    }
  ]
}