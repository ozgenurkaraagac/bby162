{
  "nbformat": 4,
  "nbformat_minor": 0,
  "metadata": {
    "colab": {
      "name": "proje03.ipynb",
      "provenance": [],
      "authorship_tag": "ABX9TyMVSX4sJylZmIcPyUKFBh33",
      "include_colab_link": true
    },
    "kernelspec": {
      "name": "python3",
      "display_name": "Python 3"
    },
    "language_info": {
      "name": "python"
    }
  },
  "cells": [
    {
      "cell_type": "markdown",
      "metadata": {
        "id": "view-in-github",
        "colab_type": "text"
      },
      "source": [
        "<a href=\"https://colab.research.google.com/github/ozgenurkaraagac/hu-bby162-2022/blob/main/proje03.ipynb\" target=\"_parent\"><img src=\"https://colab.research.google.com/assets/colab-badge.svg\" alt=\"Open In Colab\"/></a>"
      ]
    },
    {
      "cell_type": "code",
      "source": [
        "#Test Uygulaması\n",
        "\n",
        "print(\"Test uygulmasına hoşgeldiniz...\")\n",
        "soru = [\"Avengers ekibi altı kişi midir?\", \"Thanos'un gezegeninin adı Titan mıdır?\", \"Mjölnir adlı çekici Hulk kaldırmış mıdır?\", \"Doctor Strange, beyin cerrahisi midir?\", \"Beş tane sonsuzluk taşı var mıdır?\"]\n",
        "cevap = [\"e\", \"e\", \"h\", \"e\", \"h\"]\n",
        "puan = 0\n",
        "\n",
        "print(soru[0])\n",
        "cevap2 = input(\"Cevabınız: \")\n",
        "if cevap2 == cevap[0]:\n",
        "  print(\"Doğru bildiniz\")\n",
        "  puan += 1\n",
        "else:\n",
        "  print(\"Yanlış cevap\")\n",
        "\n",
        "print(soru[1])\n",
        "cevap2 = input(\"Cevabınız: \")\n",
        "if cevap2 == cevap[1]:\n",
        "  print(\"Doğru bildiniz\")\n",
        "  puan += 1\n",
        "else:\n",
        "  print(\"Yanlış cevap\")\n",
        "\n",
        "print(soru[2])\n",
        "cevap2 = input(\"Cevabınız: \")\n",
        "if cevap2 == cevap[2]:\n",
        "  print(\"Doğru bildiniz\")\n",
        "  puan += 1\n",
        "else:\n",
        "  print(\"Yanlış cevap\")\n",
        "\n",
        "print(soru[3])\n",
        "cevap2 = input(\"Cevabınız: \")\n",
        "if cevap2 == cevap[3]:\n",
        "  print(\"Doğru bildiniz\")\n",
        "  puan += 1\n",
        "else:\n",
        "  print(\"Yanlış cevap\")\n",
        "\n",
        "print(soru[4])\n",
        "cevap2 = input(\"Cevabınız: \")\n",
        "if cevap2 == cevap[4]:\n",
        "  print(\"Doğru bildiniz\")\n",
        "  puan += 1\n",
        "else:\n",
        "  print(\"Yanlış cevap\")\n",
        "\n",
        "\n",
        "evet = 'e'\n",
        "hayir = 'h'\n",
        "\n",
        "if puan == 0:\n",
        "  print(\"Hepsi yanlış - 0 puan\")\n",
        "  print(\"Testten kaldınız\")\n",
        "  tekrar = input(\"Teste tekrar girmek ister misiniz? - e/h \")\n",
        "  if tekrar == evet:\n",
        "    print('Test tekrar başlıyor :)')\n",
        "  elif tekrar == hayir:\n",
        "    print('Güle Güle :(')\n",
        "    \n",
        "elif puan == 1:\n",
        "  print(\"1 doğru, 4 yanlış - 20 puan\")\n",
        "  print(\"Testten kaldınız\")\n",
        "  tekrar = input(\"Teste tekrar girmek ister misiniz? - e/h \")\n",
        "  if tekrar == evet:\n",
        "    print('Test tekrar başlıyor :)')\n",
        "  elif tekrar == hayir:\n",
        "    print('Güle Güle :(')\n",
        "    \n",
        "elif puan == 2:\n",
        "  print(\"2 doğru, 3 yanlış - 40 puan\")\n",
        "  print(\"Testten kaldınız\")\n",
        "  tekrar = input(\"Teste tekrar girmek ister misiniz? - e/h \")\n",
        "  if tekrar == evet:\n",
        "    print('Test tekrar başlıyor :)')\n",
        "  elif tekrar == hayir:\n",
        "    print('Güle Güle :(')\n",
        "    \n",
        "elif puan == 3:\n",
        "  print(\"3 doğru, 2 yanlış - 60 puan\")\n",
        "  print(\"Tebrikler testi geçtiniz\")\n",
        "\n",
        "elif puan == 4:\n",
        "  print(\"4 doğru, 1 yanlış - 80 puan\")\n",
        "  print(\"Tebrikler testi geçtiniz\")\n",
        "\n",
        "elif puan == 5:\n",
        "  print(\"Hepsi doğru - 100 puan\")\n",
        "  print(\"Tebrikler testi geçtiniz\")\n",
        "\n"
      ],
      "metadata": {
        "colab": {
          "base_uri": "https://localhost:8080/"
        },
        "id": "XeC-IpJ_3VfI",
        "outputId": "65d6ee49-bffb-46a3-b508-c6730084ea11"
      },
      "execution_count": 4,
      "outputs": [
        {
          "output_type": "stream",
          "name": "stdout",
          "text": [
            "Test uygulmasına hoşgeldiniz...\n",
            "Avengers ekibi altı kişi midir?\n",
            "Cevabınız: h\n",
            "Yanlış cevap\n",
            "Thanos'un gezegeninin adı Titan mıdır?\n",
            "Cevabınız: h\n",
            "Yanlış cevap\n",
            "Mjölnir adlı çekici Hulk kaldırmış mıdır?\n",
            "Cevabınız: e\n",
            "Yanlış cevap\n",
            "Doctor Strange, beyin cerrahisi midir?\n",
            "Cevabınız: h\n",
            "Yanlış cevap\n",
            "Beş tane sonsuzluk taşı var mıdır?\n",
            "Cevabınız: e\n",
            "Yanlış cevap\n",
            "Hepsi yanlış - 0 puan\n",
            "Testten kaldınız\n",
            "Teste tekrar girmek ister misiniz? - e/h h\n",
            "Güle Güle :(\n"
          ]
        }
      ]
    }
  ]
}